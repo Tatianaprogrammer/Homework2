{
 "cells": [
  {
   "cell_type": "code",
   "execution_count": 2,
   "id": "cf8e162f",
   "metadata": {},
   "outputs": [
    {
     "name": "stdout",
     "output_type": "stream",
     "text": [
      "11 14 17 20 \n",
      "23 30 37 44 \n",
      "35 46 57 68 \n"
     ]
    }
   ],
   "source": [
    "# 1. Берем строку матрицы А\n",
    "# 2. Берем столбец матрицы Б\n",
    "# 3. Перемножаем и суммируем\n",
    "# 4. Записываем получившийся элемент в новую (результирующую) строку\n",
    "def get_col(matrix, ind): # получение столбца матрицы\n",
    "    col = []\n",
    "    for row in matrix:\n",
    "        col.append(row[ind])\n",
    "    return col\n",
    "\n",
    "\n",
    "def row_X_col(row, col): \n",
    "    s = 0\n",
    "    for i in range(len(row)):\n",
    "        s = s + row[i] * col[i]\n",
    "    return s\n",
    "\n",
    "def beautiful_print(matrix):\n",
    "    col_number = len(matrix[0])\n",
    "    len_box = []\n",
    "    for i in range(col_number):\n",
    "        max_len = 0\n",
    "        col = get_col(matrix, i)\n",
    "        for j in col:\n",
    "            if max_len < len(str(j)):\n",
    "                max_len = len(str(j))\n",
    "        len_box.append(max_len)\n",
    "    for row in matrix:\n",
    "        row_str = \"\"\n",
    "        for elem in row:\n",
    "            row_str = row_str + str(elem).rjust(len_box[row.index(elem)]) + \" \"\n",
    "        print(row_str)\n",
    "\n",
    "def matrix_mult(A, B):\n",
    "    C = []\n",
    "    col_number = len(B[0])\n",
    "    for row in A:\n",
    "        C_row = []\n",
    "        for i in range(col_number):\n",
    "            col = get_col(B, i)\n",
    "            C_row.append(row_X_col(row, col))\n",
    "        C.append(C_row)\n",
    "    beautiful_print(C)\n",
    "\n",
    "A = [[1, 2], [3, 4], [5, 6]]\n",
    "B = [[1, 2, 3, 4], [5, 6, 7, 8]]\n",
    "error = 0\n",
    "\n",
    "for i in range(1, len(A)):\n",
    "    if len(A[i]) != len(A[i - 1]):\n",
    "        error = 1\n",
    "\n",
    "if error == 0:\n",
    "    for i in range(1, len(B)):\n",
    "        if len(B[i]) != len(B[i - 1]):\n",
    "            error = 1\n",
    "\n",
    "if error == 0:\n",
    "    if len(A[0]) == len(B):\n",
    "        C = matrix_mult(A, B)\n",
    "\n",
    "    else:\n",
    "        print(\"Матрицы невозможно перемножить\")\n",
    "else:\n",
    "    print(\"Мартицы заданы неверно. Попробуйте еще раз\")"
   ]
  }
 ],
 "metadata": {
  "kernelspec": {
   "display_name": "Python 3 (ipykernel)",
   "language": "python",
   "name": "python3"
  },
  "language_info": {
   "codemirror_mode": {
    "name": "ipython",
    "version": 3
   },
   "file_extension": ".py",
   "mimetype": "text/x-python",
   "name": "python",
   "nbconvert_exporter": "python",
   "pygments_lexer": "ipython3",
   "version": "3.9.7"
  }
 },
 "nbformat": 4,
 "nbformat_minor": 5
}
